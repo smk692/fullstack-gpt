{
 "cells": [
  {
   "cell_type": "code",
   "execution_count": 1,
   "metadata": {},
   "outputs": [
    {
     "ename": "ImportError",
     "evalue": "cannot import name 'JsonOutputKeyToolsParser' from 'langchain.output_parsers' (/Users/sonmingi/Desktop/test/fullstack-gpt/.venv/lib/python3.11/site-packages/langchain/output_parsers/__init__.py)",
     "output_type": "error",
     "traceback": [
      "\u001b[0;31m---------------------------------------------------------------------------\u001b[0m",
      "\u001b[0;31mImportError\u001b[0m                               Traceback (most recent call last)",
      "\u001b[1;32m/Users/sonmingi/Desktop/test/fullstack-gpt/notebook.ipynb 셀 1\u001b[0m line \u001b[0;36m3\n\u001b[1;32m      <a href='vscode-notebook-cell:/Users/sonmingi/Desktop/test/fullstack-gpt/notebook.ipynb#W0sZmlsZQ%3D%3D?line=0'>1</a>\u001b[0m \u001b[39mfrom\u001b[39;00m \u001b[39mlangchain\u001b[39;00m\u001b[39m.\u001b[39;00m\u001b[39mprompts\u001b[39;00m \u001b[39mimport\u001b[39;00m ChatPromptTemplate\n\u001b[1;32m      <a href='vscode-notebook-cell:/Users/sonmingi/Desktop/test/fullstack-gpt/notebook.ipynb#W0sZmlsZQ%3D%3D?line=1'>2</a>\u001b[0m \u001b[39mfrom\u001b[39;00m \u001b[39mlangchain\u001b[39;00m\u001b[39m.\u001b[39;00m\u001b[39mchat_models\u001b[39;00m \u001b[39mimport\u001b[39;00m ChatAnthropic\n\u001b[0;32m----> <a href='vscode-notebook-cell:/Users/sonmingi/Desktop/test/fullstack-gpt/notebook.ipynb#W0sZmlsZQ%3D%3D?line=2'>3</a>\u001b[0m \u001b[39mfrom\u001b[39;00m \u001b[39mlangchain\u001b[39;00m\u001b[39m.\u001b[39;00m\u001b[39moutput_parsers\u001b[39;00m \u001b[39mimport\u001b[39;00m JsonOutputKeyToolsParser\n\u001b[1;32m      <a href='vscode-notebook-cell:/Users/sonmingi/Desktop/test/fullstack-gpt/notebook.ipynb#W0sZmlsZQ%3D%3D?line=4'>5</a>\u001b[0m prompt \u001b[39m=\u001b[39m ChatPromptTemplate\u001b[39m.\u001b[39mfrom_messages(\n\u001b[1;32m      <a href='vscode-notebook-cell:/Users/sonmingi/Desktop/test/fullstack-gpt/notebook.ipynb#W0sZmlsZQ%3D%3D?line=5'>6</a>\u001b[0m     [\n\u001b[1;32m      <a href='vscode-notebook-cell:/Users/sonmingi/Desktop/test/fullstack-gpt/notebook.ipynb#W0sZmlsZQ%3D%3D?line=6'>7</a>\u001b[0m         (\n\u001b[0;32m   (...)\u001b[0m\n\u001b[1;32m     <a href='vscode-notebook-cell:/Users/sonmingi/Desktop/test/fullstack-gpt/notebook.ipynb#W0sZmlsZQ%3D%3D?line=14'>15</a>\u001b[0m     ]\n\u001b[1;32m     <a href='vscode-notebook-cell:/Users/sonmingi/Desktop/test/fullstack-gpt/notebook.ipynb#W0sZmlsZQ%3D%3D?line=15'>16</a>\u001b[0m )\n\u001b[1;32m     <a href='vscode-notebook-cell:/Users/sonmingi/Desktop/test/fullstack-gpt/notebook.ipynb#W0sZmlsZQ%3D%3D?line=17'>18</a>\u001b[0m chat \u001b[39m=\u001b[39m ChatAnthropic(temperature\u001b[39m=\u001b[39m\u001b[39m0.1\u001b[39m, model_name\u001b[39m=\u001b[39m\u001b[39m\"\u001b[39m\u001b[39m\"\u001b[39m)\n",
      "\u001b[0;31mImportError\u001b[0m: cannot import name 'JsonOutputKeyToolsParser' from 'langchain.output_parsers' (/Users/sonmingi/Desktop/test/fullstack-gpt/.venv/lib/python3.11/site-packages/langchain/output_parsers/__init__.py)"
     ]
    }
   ],
   "source": [
    "from langchain.prompts import ChatPromptTemplate\n",
    "from langchain.chat_models import ChatAnthropic\n",
    "from langchain.output_parsers import JsonOutputKeyToolsParser\n",
    "\n",
    "prompt = ChatPromptTemplate.from_messages(\n",
    "    [\n",
    "        (\n",
    "            \"system\",\n",
    "            \"You are a translator bot. Translate sentences from {source_language} to {target_language}.\",\n",
    "        ),\n",
    "        (\n",
    "            \"human\",\n",
    "            \"Translate this: {sentence}\",\n",
    "        ),\n",
    "    ]\n",
    ")\n",
    "\n",
    "chat = ChatAnthropic(temperature=0.1, model_name=\"\")\n",
    "\n",
    "chain = prompt | chat | JsonOutputKeyToolsParser()\n",
    "\n",
    "chain.invoke(\n",
    "    {\n",
    "        \"source_language\": \"English\",\n",
    "        \"target_language\": \"Italian\",\n",
    "        \"sentence\": \"I love you, Langchain!\",\n",
    "    }\n",
    ")"
   ]
  },
  {
   "cell_type": "code",
   "execution_count": null,
   "metadata": {},
   "outputs": [],
   "source": []
  }
 ],
 "metadata": {
  "kernelspec": {
   "display_name": "env",
   "language": "python",
   "name": "python3"
  },
  "language_info": {
   "codemirror_mode": {
    "name": "ipython",
    "version": 3
   },
   "file_extension": ".py",
   "mimetype": "text/x-python",
   "name": "python",
   "nbconvert_exporter": "python",
   "pygments_lexer": "ipython3",
   "version": "3.11.6"
  }
 },
 "nbformat": 4,
 "nbformat_minor": 2
}
